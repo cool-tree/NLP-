{
 "cells": [
  {
   "cell_type": "markdown",
   "metadata": {},
   "source": [
    "# Basic PyTorch Text Classification"
   ]
  },
  {
   "cell_type": "markdown",
   "metadata": {},
   "source": [
    "## Overview\n",
    "This tutorial is extracted from https://github.com/bentrevett/pytorch-sentiment-analysis. Before proceeding, make sure to install the required library. \n",
    "\n",
    "一、学习目标：\n",
    "（1）如何学习新项目：\n",
    "        跟书学？：①书跟实际上的API有很大的区别②书中会漏掉关键步骤\n",
    "        找一个比较清楚的例子！在例子的基础上进行修改（开源项目）——一行一行看并不太好：1.先跑通：可能有问题（自身代码问题、依赖包问题）2.不要太关注细节——根据函数就能大概知道整个架构如何，先把逻辑理清，再去看细节3.检查每一步中哪个地方有问题\n",
    "（2）跑通之后，去思考如何提升其准确性\n",
    "\n",
    "二、项目结构\n",
    "    （1）对文本进行预处理：处理数据，分词，对应成相应ID（方便查找Embedding）——torchtext\n",
    "    （2）定义相关的网络：网络定义，实例化，复制Embedding，定义优化器、损失函数\n",
    "    （3）训练过程"
   ]
  },
  {
   "cell_type": "code",
   "execution_count": 1,
   "metadata": {},
   "outputs": [
    {
     "name": "stderr",
     "output_type": "stream",
     "text": [
      "[nltk_data] Downloading package punkt to /root/nltk_data...\n",
      "[nltk_data]   Package punkt is already up-to-date!\n"
     ]
    },
    {
     "data": {
      "text/plain": [
       "True"
      ]
     },
     "execution_count": 1,
     "metadata": {},
     "output_type": "execute_result"
    }
   ],
   "source": [
    "import nltk#安装nltk：pip install nltk；nltk：常用的python自然语言处理的工具包，有一些现成的算法和功能\n",
    "nltk.download('punkt')#下载nltk的一个子的library——原始例子中用的是spaCy，有bug：导致其在谷歌云上安装会出现问题,于是改了一个方法\n",
    "#punkt：分词功能，英文分词：对缩写处理（isn't在tokenization也就是分词的过程中，会变成 is 和 n't）,\n",
    "#分词器在中英文中影响不大，数据的影响会比较大，此处没有进行数据清洗，\n",
    "#如果数据从网上抓取下来，文本中会有很多其它符号，清洗之后的分类准确性会更高，但并不是数据集越干净准确性越高（颜文字）\n",
    "#不同的清理方法对不同的模型的效果也不尽相同；\n",
    "#清洗时，首先要自己判断去掉比较明显的错误，然后选择一个已经做好的模型（XLNet准确性最高），在这个基础上做实验\n",
    "#用最好的模型做数据清洗的尝试\n",
    "#中文中常见的分词器叫做jieba，jieba的准确率有一定限制，但运行速度较快（Tradeoff）\n",
    "#cpu运行用了八小时，用实验室服务器两分钟就搞定了，大型模型要用GPU跑\n",
    "#想要在终端友好的的调试python程序，使用了pudb3\n",
    "#pytorch的版本变化很大，往往在一个机器中运行的好的代码未必在另一台机器上运行的好，甚至可能跑不通\n",
    "#先跑通，再看每个环节的作用，然后再研究如何可以提高精确度\n"
   ]
  },
  {
   "cell_type": "code",
   "execution_count": 2,
   "metadata": {},
   "outputs": [],
   "source": [
    "from nltk.tokenize import word_tokenize\n",
    "tokenizer = word_tokenize"
   ]
  },
  {
   "cell_type": "code",
   "execution_count": 3,
   "metadata": {},
   "outputs": [],
   "source": [
    "import torch\n",
    "from torchtext.legacy import data#pip install torchtext\n",
    "from torchtext.legacy import datasets\n",
    "\n",
    "SEED = 1234\n",
    "\n",
    "torch.manual_seed(SEED)\n",
    "torch.backends.cudnn.deterministic = True\n",
    "\n",
    "TEXT = data.Field(tokenize = tokenizer, include_lengths = True)#文本这一列怎么处理:tokenize是什么,length要计算下来\n",
    "LABEL = data.LabelField(dtype = torch.float)#label这一列怎么处理:转换成torch.float"
   ]
  },
  {
   "cell_type": "code",
   "execution_count": null,
   "metadata": {},
   "outputs": [],
   "source": [
    "from torchtext.legacy import datasets\n",
    "\n",
    "train_data, test_data = datasets.IMDB.splits(TEXT, LABEL)\n",
    "#调用内置数据库IMDB（电影的review网站，并没有放全部review，而是选择highly polarized（情感倾向非常强的review））\n",
    "#分好训练数据和测试数据\n",
    "#下载和分词"
   ]
  },
  {
   "cell_type": "code",
   "execution_count": 5,
   "metadata": {},
   "outputs": [
    {
     "ename": "ValueError",
     "evalue": "not enough values to unpack (expected 2, got 0)",
     "output_type": "error",
     "traceback": [
      "\u001b[0;31m---------------------------------------------------------------------------\u001b[0m",
      "\u001b[0;31mValueError\u001b[0m                                Traceback (most recent call last)",
      "Input \u001b[0;32mIn [5]\u001b[0m, in \u001b[0;36m<module>\u001b[0;34m\u001b[0m\n\u001b[1;32m      1\u001b[0m \u001b[38;5;28;01mimport\u001b[39;00m \u001b[38;5;21;01mrandom\u001b[39;00m\n\u001b[0;32m----> 3\u001b[0m train_data, valid_data \u001b[38;5;241m=\u001b[39m train_data\u001b[38;5;241m.\u001b[39msplit(random_state \u001b[38;5;241m=\u001b[39m random\u001b[38;5;241m.\u001b[39mseed(SEED))\n",
      "\u001b[0;31mValueError\u001b[0m: not enough values to unpack (expected 2, got 0)"
     ]
    }
   ],
   "source": [
    "import random\n",
    "\n",
    "train_data, valid_data = train_data.split(random_state = random.seed(SEED))"
   ]
  },
  {
   "cell_type": "code",
   "execution_count": null,
   "metadata": {},
   "outputs": [
    {
     "name": "stderr",
     "output_type": "stream",
     "text": [
      ".vector_cache/glove.6B.zip:  59%|███████▌     | 506M/862M [36:23<06:32, 909kB/s]"
     ]
    }
   ],
   "source": [
    "MAX_VOCAB_SIZE = 25000#我关心哪些词\n",
    "\n",
    "TEXT.build_vocab(train_data, \n",
    "                 max_size = MAX_VOCAB_SIZE, \n",
    "                 vectors = \"glove.6B.300d\", \n",
    "                 unk_init = torch.Tensor.normal_)#下载一个新的词向量glove.6B.300d(global vector是谷歌开源的一个词向量，根据6个词来计算词的频率，300维的向量)\n",
    "#没有用中间的全部词，而是把中间比如说频率，超过了排在25000之后的词直接舍去\n",
    "#如果出现我不知道的词，给定随机的一个正态的初始化\n",
    "LABEL.build_vocab(train_data)"
   ]
  },
  {
   "cell_type": "code",
   "execution_count": 7,
   "metadata": {},
   "outputs": [],
   "source": [
    "BATCH_SIZE = 64\n",
    "\n",
    "device = torch.device('cuda' if torch.cuda.is_available() else 'cpu')\n",
    "\n",
    "train_iterator, valid_iterator, test_iterator = data.BucketIterator.splits(\n",
    "    (train_data, valid_data, test_data), \n",
    "    batch_size = BATCH_SIZE,\n",
    "    sort_within_batch = True,\n",
    "    device = device)\n",
    "#Bucketlterator：构造data loader"
   ]
  },
  {
   "cell_type": "code",
   "execution_count": 8,
   "metadata": {},
   "outputs": [],
   "source": [
    "#处理网络\n",
    "import torch.nn as nn\n",
    "\n",
    "class RNN(nn.Module):\n",
    "    def __init__(self, vocab_size, embedding_dim, hidden_dim, output_dim, n_layers, \n",
    "                 bidirectional, dropout, pad_idx):\n",
    "        \n",
    "        super().__init__()\n",
    "        \n",
    "        self.embedding = nn.Embedding(vocab_size, embedding_dim, padding_idx = pad_idx)\n",
    "        \n",
    "        self.rnn = nn.LSTM(embedding_dim, \n",
    "                           hidden_dim, \n",
    "                           num_layers=n_layers, \n",
    "                           bidirectional=bidirectional, \n",
    "                           dropout=dropout)\n",
    "        \n",
    "        self.fc = nn.Linear(hidden_dim * 2, output_dim)#hidden_dim为什么乘以2？：一般bidirectional会设置成true,即双层双向的LSTM，最后前向后向的结果拼接到一块\n",
    "        \n",
    "        self.dropout = nn.Dropout(dropout)\n",
    "        \n",
    "    def forward(self, text, text_lengths):#text\\text_length从文本中获得\n",
    "        \n",
    "        embedded = self.embedding(text)\n",
    "        \n",
    "        packed_embedded = nn.utils.rnn.pack_padded_sequence(embedded, text_lengths)\n",
    "        #padded,不同长度的字符串补零变成齐长，但做了很多无意义的加法，因此padded将字符串存储成下图所示，避免多余的乘零运算\n",
    "        #得用pytorch1.6.0才能跑通，否则要将text_lengths改成text_lengths.cpu()\n",
    "        \n",
    "        packed_output, (hidden, cell) = self.rnn(packed_embedded)\n",
    "        \n",
    "        output, output_lengths = nn.utils.rnn.pad_packed_sequence(packed_output)#pad将padded字符串重新变回补零的形式\n",
    "        \n",
    "        hidden = self.dropout(torch.cat((hidden[-2,:,:], hidden[-1,:,:]), dim = 1))\n",
    "        #hidden实际上拿出倒数后两个（默认假设你使用的是双向LSTM，因此最终有一个向前的状态，把其隐藏层拿出，然后再把向后的一个最终状态拿出来，从而有两个hidden）\n",
    "                \n",
    "        return self.fc(hidden)#理论上输出可以从负无穷到正无穷，无法分类，希望将其变成从0到1之间的概率值，所以做了一个logistic变换（softmax变换）"
   ]
  },
  {
   "cell_type": "markdown",
   "metadata": {},
   "source": [
    "![Packed Sequence](rnn_packed_seq.jpg)"
   ]
  },
  {
   "cell_type": "code",
   "execution_count": 9,
   "metadata": {},
   "outputs": [],
   "source": [
    "INPUT_DIM = len(TEXT.vocab)\n",
    "EMBEDDING_DIM = 300\n",
    "HIDDEN_DIM = 256\n",
    "OUTPUT_DIM = 1\n",
    "N_LAYERS = 2#叠加两个LSTM\n",
    "BIDIRECTIONAL = True\n",
    "DROPOUT = 0.2\n",
    "PAD_IDX = TEXT.vocab.stoi[TEXT.pad_token]#将pad_token转换成一个数值型\n",
    "\n",
    "model = RNN(INPUT_DIM, \n",
    "            EMBEDDING_DIM, \n",
    "            HIDDEN_DIM, \n",
    "            OUTPUT_DIM, \n",
    "            N_LAYERS, \n",
    "            BIDIRECTIONAL, \n",
    "            DROPOUT, \n",
    "            PAD_IDX)#实例化"
   ]
  },
  {
   "cell_type": "code",
   "execution_count": 10,
   "metadata": {},
   "outputs": [
    {
     "data": {
      "text/plain": [
       "tensor([[-0.1117, -0.4966,  0.1631,  ..., -1.4447,  0.8402, -0.8668],\n",
       "        [ 0.1032, -1.6268,  0.5729,  ...,  0.3180, -0.1626, -0.0417],\n",
       "        [ 0.0466,  0.2132, -0.0074,  ...,  0.0091, -0.2099,  0.0539],\n",
       "        ...,\n",
       "        [ 0.4301,  0.1106, -0.1652,  ...,  0.6874,  0.2279,  0.1751],\n",
       "        [ 0.4206,  0.5589,  0.0129,  ...,  0.0560,  0.5848, -0.2663],\n",
       "        [ 0.0303,  0.4811,  0.0488,  ..., -0.4523, -0.0706,  0.1418]])"
      ]
     },
     "execution_count": 10,
     "metadata": {},
     "output_type": "execute_result"
    }
   ],
   "source": [
    "#一般不希望重新训练Embedding，因此要将其copy出来\n",
    "pretrained_embeddings = TEXT.vocab.vectors\n",
    "model.embedding.weight.data.copy_(pretrained_embeddings)\n"
   ]
  },
  {
   "cell_type": "code",
   "execution_count": 11,
   "metadata": {},
   "outputs": [],
   "source": [
    "UNK_IDX = TEXT.vocab.stoi[TEXT.unk_token]#unknown token仍然要做成一个类似于数值型的形式\n",
    "\n",
    "model.embedding.weight.data[UNK_IDX] = torch.zeros(EMBEDDING_DIM)#unknown全部变零\n",
    "model.embedding.weight.data[PAD_IDX] = torch.zeros(EMBEDDING_DIM)#pad全部变零"
   ]
  },
  {
   "cell_type": "code",
   "execution_count": 12,
   "metadata": {},
   "outputs": [],
   "source": [
    "#给了优化器（Adam的优化）和一个损失函数\n",
    "import torch.optim as optim\n",
    "\n",
    "optimizer = optim.Adam(model.parameters())#把Adam模型中的model.parameters即模型中所有的权重给了optimizer\n",
    "criterion = nn.BCEWithLogitsLoss()\n",
    "#损失函数（BCEWithLogisLOss，BCE：binary cross entropy）做两件事：\n",
    "#①进行一个Logit变换，将fc输出转化成概率p\n",
    "#②cross entropy的loss需要计算出来\n",
    "\n",
    "model = model.to(device)#把模型存到GPU或CPU中\n",
    "criterion = criterion.to(device)"
   ]
  },
  {
   "cell_type": "code",
   "execution_count": 13,
   "metadata": {},
   "outputs": [],
   "source": [
    "def binary_accuracy(preds, y):#计算二值精准度\n",
    "    \"\"\"\n",
    "    Returns accuracy per batch, i.e. if you get 8/10 right, this returns 0.8, NOT 8\n",
    "    \"\"\"\n",
    "\n",
    "    #round predictions to the closest integer\n",
    "    rounded_preds = torch.round(torch.sigmoid(preds))\n",
    "    correct = (rounded_preds == y).float() #convert into float for division \n",
    "    acc = correct.sum() / len(correct)\n",
    "    return acc"
   ]
  },
  {
   "cell_type": "code",
   "execution_count": 14,
   "metadata": {},
   "outputs": [],
   "source": [
    "def train(model, iterator, optimizer, criterion):#iterator：data loader、bucketIterator\n",
    "    \n",
    "    epoch_loss = 0\n",
    "    epoch_acc = 0\n",
    "    \n",
    "    model.train()#对应model.eval函数，train训练网络（计算相关权重及其梯度），eval时，我们不需要改变网络，因此不需要梯度\n",
    "    \n",
    "    for batch in iterator:\n",
    "        \n",
    "        optimizer.zero_grad()\n",
    "        \n",
    "        text, text_lengths = batch.text\n",
    "        \n",
    "        predictions = model(text, text_lengths).squeeze(1)\n",
    "        \n",
    "        loss = criterion(predictions, batch.label)\n",
    "        \n",
    "        acc = binary_accuracy(predictions, batch.label)\n",
    "        \n",
    "        loss.backward()\n",
    "        \n",
    "        optimizer.step()\n",
    "        \n",
    "        epoch_loss += loss.item()\n",
    "        epoch_acc += acc.item()\n",
    "        \n",
    "    return epoch_loss / len(iterator), epoch_acc / len(iterator)"
   ]
  },
  {
   "cell_type": "code",
   "execution_count": 15,
   "metadata": {},
   "outputs": [],
   "source": [
    "def evaluate(model, iterator, criterion):\n",
    "    \n",
    "    epoch_loss = 0\n",
    "    epoch_acc = 0\n",
    "    \n",
    "    model.eval()\n",
    "    \n",
    "    with torch.no_grad():\n",
    "    \n",
    "        for batch in iterator:\n",
    "\n",
    "            text, text_lengths = batch.text\n",
    "            \n",
    "            predictions = model(text, text_lengths).squeeze(1)\n",
    "            \n",
    "            loss = criterion(predictions, batch.label)\n",
    "            \n",
    "            acc = binary_accuracy(predictions, batch.label)\n",
    "\n",
    "            epoch_loss += loss.item()\n",
    "            epoch_acc += acc.item()\n",
    "        \n",
    "    return epoch_loss / len(iterator), epoch_acc / len(iterator)"
   ]
  },
  {
   "cell_type": "code",
   "execution_count": 16,
   "metadata": {},
   "outputs": [],
   "source": [
    "import time\n",
    "\n",
    "def epoch_time(start_time, end_time):\n",
    "    elapsed_time = end_time - start_time\n",
    "    elapsed_mins = int(elapsed_time / 60)\n",
    "    elapsed_secs = int(elapsed_time - (elapsed_mins * 60))\n",
    "    return elapsed_mins, elapsed_secs"
   ]
  },
  {
   "cell_type": "code",
   "execution_count": 17,
   "metadata": {
    "scrolled": true
   },
   "outputs": [
    {
     "name": "stderr",
     "output_type": "stream",
     "text": [
      "\r",
      "100%|█████████▉| 399700/400000 [01:00<00:00, 8294.58it/s]"
     ]
    },
    {
     "name": "stdout",
     "output_type": "stream",
     "text": [
      "Epoch: 01 | Epoch Time: 1m 50s\n",
      "\tTrain Loss: 0.558 | Train Acc: 70.57%\n",
      "\t Val. Loss: 0.444 |  Val. Acc: 79.54%\n",
      "Epoch: 02 | Epoch Time: 1m 50s\n",
      "\tTrain Loss: 0.393 | Train Acc: 82.70%\n",
      "\t Val. Loss: 0.383 |  Val. Acc: 83.21%\n",
      "Epoch: 03 | Epoch Time: 1m 50s\n",
      "\tTrain Loss: 0.287 | Train Acc: 88.10%\n",
      "\t Val. Loss: 0.300 |  Val. Acc: 88.08%\n",
      "Epoch: 04 | Epoch Time: 1m 50s\n",
      "\tTrain Loss: 0.161 | Train Acc: 94.26%\n",
      "\t Val. Loss: 0.314 |  Val. Acc: 87.84%\n",
      "Epoch: 05 | Epoch Time: 1m 50s\n",
      "\tTrain Loss: 0.122 | Train Acc: 95.53%\n",
      "\t Val. Loss: 0.367 |  Val. Acc: 87.17%\n"
     ]
    }
   ],
   "source": [
    "N_EPOCHS = 5\n",
    "\n",
    "best_valid_loss = float('inf')\n",
    "\n",
    "for epoch in range(N_EPOCHS):\n",
    "\n",
    "    start_time = time.time()\n",
    "    \n",
    "    train_loss, train_acc = train(model, train_iterator, optimizer, criterion)\n",
    "    valid_loss, valid_acc = evaluate(model, valid_iterator, criterion)\n",
    "    \n",
    "    end_time = time.time()\n",
    "\n",
    "    epoch_mins, epoch_secs = epoch_time(start_time, end_time)\n",
    "    \n",
    "    if valid_loss < best_valid_loss:\n",
    "        best_valid_loss = valid_loss\n",
    "        torch.save(model.state_dict(), 'model.pt')\n",
    "    \n",
    "    print(f'Epoch: {epoch+1:02} | Epoch Time: {epoch_mins}m {epoch_secs}s')\n",
    "    print(f'\\tTrain Loss: {train_loss:.3f} | Train Acc: {train_acc*100:.2f}%')\n",
    "    print(f'\\t Val. Loss: {valid_loss:.3f} |  Val. Acc: {valid_acc*100:.2f}%')"
   ]
  },
  {
   "cell_type": "code",
   "execution_count": 18,
   "metadata": {},
   "outputs": [
    {
     "name": "stdout",
     "output_type": "stream",
     "text": [
      "Test Loss: 0.321 | Test Acc: 87.01%\n"
     ]
    }
   ],
   "source": [
    "model.load_state_dict(torch.load('model.pt'))\n",
    "\n",
    "test_loss, test_acc = evaluate(model, test_iterator, criterion)\n",
    "\n",
    "print(f'Test Loss: {test_loss:.3f} | Test Acc: {test_acc*100:.2f}%')"
   ]
  }
 ],
 "metadata": {
  "kernelspec": {
   "display_name": "Python 3 (ipykernel)",
   "language": "python",
   "name": "python3"
  },
  "language_info": {
   "codemirror_mode": {
    "name": "ipython",
    "version": 3
   },
   "file_extension": ".py",
   "mimetype": "text/x-python",
   "name": "python",
   "nbconvert_exporter": "python",
   "pygments_lexer": "ipython3",
   "version": "3.9.7"
  }
 },
 "nbformat": 4,
 "nbformat_minor": 4
}
